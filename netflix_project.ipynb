{
 "cells": [
  {
   "cell_type": "code",
   "execution_count": 1,
   "id": "70cc4270-8b0e-4738-aa69-e03acff05881",
   "metadata": {},
   "outputs": [],
   "source": [
    "import pandas as pd\n",
    "import numpy as np\n",
    "import seaborn as sns\n",
    "import matplotlib.pyplot as plt\n",
    "%matplotlib inline"
   ]
  },
  {
   "cell_type": "markdown",
   "id": "d715b7b0-2782-4af9-a593-563ab5765bd3",
   "metadata": {},
   "source": [
    "1. Which movies and shows on Netflix ranked in the top 10 and bottom 10 based on their IMDB scores? "
   ]
  },
  {
   "cell_type": "code",
   "execution_count": 2,
   "id": "ca64d8eb-0efb-4b61-b561-81a2ec6edeea",
   "metadata": {},
   "outputs": [],
   "source": [
    "var = pd.read_csv(\"C:\\\\Users\\\\tanis\\\\Downloads\\\\titles.csv\")"
   ]
  },
  {
   "cell_type": "code",
   "execution_count": 20,
   "id": "2b7c159e-5b35-407f-aaa2-a3fec633c19d",
   "metadata": {},
   "outputs": [],
   "source": [
    "# bottom 10 movie \n",
    "var2 = var[var['type'] == 'MOVIE'].sort_values('imdb_score').head(10)[['title','imdb_score']]\n"
   ]
  },
  {
   "cell_type": "code",
   "execution_count": 21,
   "id": "348fa3f1-9b69-4674-8409-582fbfb8cc78",
   "metadata": {},
   "outputs": [
    {
     "data": {
      "text/html": [
       "<div>\n",
       "<style scoped>\n",
       "    .dataframe tbody tr th:only-of-type {\n",
       "        vertical-align: middle;\n",
       "    }\n",
       "\n",
       "    .dataframe tbody tr th {\n",
       "        vertical-align: top;\n",
       "    }\n",
       "\n",
       "    .dataframe thead th {\n",
       "        text-align: right;\n",
       "    }\n",
       "</style>\n",
       "<table border=\"1\" class=\"dataframe\">\n",
       "  <thead>\n",
       "    <tr style=\"text-align: right;\">\n",
       "      <th></th>\n",
       "      <th>title</th>\n",
       "      <th>imdb_score</th>\n",
       "    </tr>\n",
       "  </thead>\n",
       "  <tbody>\n",
       "    <tr>\n",
       "      <th>1633</th>\n",
       "      <td>Aerials</td>\n",
       "      <td>1.5</td>\n",
       "    </tr>\n",
       "    <tr>\n",
       "      <th>3623</th>\n",
       "      <td>Me Against You: Mr. S's Vendetta</td>\n",
       "      <td>1.6</td>\n",
       "    </tr>\n",
       "    <tr>\n",
       "      <th>1091</th>\n",
       "      <td>Himmatwala</td>\n",
       "      <td>1.7</td>\n",
       "    </tr>\n",
       "    <tr>\n",
       "      <th>1577</th>\n",
       "      <td>Kyaa Kool Hain Hum 3</td>\n",
       "      <td>1.9</td>\n",
       "    </tr>\n",
       "    <tr>\n",
       "      <th>1695</th>\n",
       "      <td>Hajwala: The Missing Engine</td>\n",
       "      <td>2.0</td>\n",
       "    </tr>\n",
       "    <tr>\n",
       "      <th>748</th>\n",
       "      <td>FRED 3: Camp Fred</td>\n",
       "      <td>2.0</td>\n",
       "    </tr>\n",
       "    <tr>\n",
       "      <th>19</th>\n",
       "      <td>Dostana</td>\n",
       "      <td>2.1</td>\n",
       "    </tr>\n",
       "    <tr>\n",
       "      <th>5766</th>\n",
       "      <td>Time to Dance</td>\n",
       "      <td>2.2</td>\n",
       "    </tr>\n",
       "    <tr>\n",
       "      <th>2944</th>\n",
       "      <td>B. A. Pass 2</td>\n",
       "      <td>2.2</td>\n",
       "    </tr>\n",
       "    <tr>\n",
       "      <th>5797</th>\n",
       "      <td>Myriam Fares: The Journey</td>\n",
       "      <td>2.3</td>\n",
       "    </tr>\n",
       "  </tbody>\n",
       "</table>\n",
       "</div>"
      ],
      "text/plain": [
       "                                 title  imdb_score\n",
       "1633                           Aerials         1.5\n",
       "3623  Me Against You: Mr. S's Vendetta         1.6\n",
       "1091                        Himmatwala         1.7\n",
       "1577              Kyaa Kool Hain Hum 3         1.9\n",
       "1695       Hajwala: The Missing Engine         2.0\n",
       "748                  FRED 3: Camp Fred         2.0\n",
       "19                             Dostana         2.1\n",
       "5766                     Time to Dance         2.2\n",
       "2944                      B. A. Pass 2         2.2\n",
       "5797         Myriam Fares: The Journey         2.3"
      ]
     },
     "execution_count": 21,
     "metadata": {},
     "output_type": "execute_result"
    }
   ],
   "source": [
    "var2"
   ]
  },
  {
   "cell_type": "code",
   "execution_count": 22,
   "id": "eccdee17-4f28-45c3-857b-6d68913ae9a2",
   "metadata": {},
   "outputs": [
    {
     "data": {
      "text/html": [
       "<div>\n",
       "<style scoped>\n",
       "    .dataframe tbody tr th:only-of-type {\n",
       "        vertical-align: middle;\n",
       "    }\n",
       "\n",
       "    .dataframe tbody tr th {\n",
       "        vertical-align: top;\n",
       "    }\n",
       "\n",
       "    .dataframe thead th {\n",
       "        text-align: right;\n",
       "    }\n",
       "</style>\n",
       "<table border=\"1\" class=\"dataframe\">\n",
       "  <thead>\n",
       "    <tr style=\"text-align: right;\">\n",
       "      <th></th>\n",
       "      <th>title</th>\n",
       "      <th>imdb_score</th>\n",
       "    </tr>\n",
       "  </thead>\n",
       "  <tbody>\n",
       "    <tr>\n",
       "      <th>5298</th>\n",
       "      <td>Thomas &amp; Friends: All Engines Go!</td>\n",
       "      <td>2.0</td>\n",
       "    </tr>\n",
       "    <tr>\n",
       "      <th>5695</th>\n",
       "      <td>He's Expecting</td>\n",
       "      <td>2.0</td>\n",
       "    </tr>\n",
       "    <tr>\n",
       "      <th>5320</th>\n",
       "      <td>Hype House</td>\n",
       "      <td>2.1</td>\n",
       "    </tr>\n",
       "    <tr>\n",
       "      <th>2838</th>\n",
       "      <td>A House of Blocks</td>\n",
       "      <td>2.3</td>\n",
       "    </tr>\n",
       "    <tr>\n",
       "      <th>3598</th>\n",
       "      <td>Until Dawn</td>\n",
       "      <td>2.4</td>\n",
       "    </tr>\n",
       "    <tr>\n",
       "      <th>3642</th>\n",
       "      <td>The Goop Lab</td>\n",
       "      <td>2.5</td>\n",
       "    </tr>\n",
       "    <tr>\n",
       "      <th>5760</th>\n",
       "      <td>Byron Baes</td>\n",
       "      <td>2.6</td>\n",
       "    </tr>\n",
       "    <tr>\n",
       "      <th>4791</th>\n",
       "      <td>First Class</td>\n",
       "      <td>2.8</td>\n",
       "    </tr>\n",
       "    <tr>\n",
       "      <th>2093</th>\n",
       "      <td>Bonus Family</td>\n",
       "      <td>2.9</td>\n",
       "    </tr>\n",
       "    <tr>\n",
       "      <th>1406</th>\n",
       "      <td>Richie Rich</td>\n",
       "      <td>3.0</td>\n",
       "    </tr>\n",
       "  </tbody>\n",
       "</table>\n",
       "</div>"
      ],
      "text/plain": [
       "                                  title  imdb_score\n",
       "5298  Thomas & Friends: All Engines Go!         2.0\n",
       "5695                     He's Expecting         2.0\n",
       "5320                         Hype House         2.1\n",
       "2838                  A House of Blocks         2.3\n",
       "3598                         Until Dawn         2.4\n",
       "3642                       The Goop Lab         2.5\n",
       "5760                         Byron Baes         2.6\n",
       "4791                        First Class         2.8\n",
       "2093                       Bonus Family         2.9\n",
       "1406                        Richie Rich         3.0"
      ]
     },
     "execution_count": 22,
     "metadata": {},
     "output_type": "execute_result"
    }
   ],
   "source": [
    "# bottom 10 show\n",
    "var2 = var[var['type'] == 'SHOW'].sort_values('imdb_score').head(10)[['title','imdb_score']]\n",
    "var2"
   ]
  },
  {
   "cell_type": "code",
   "execution_count": 24,
   "id": "a9e53931-03f3-4e61-b7fb-1f101cbd262f",
   "metadata": {},
   "outputs": [
    {
     "data": {
      "text/html": [
       "<div>\n",
       "<style scoped>\n",
       "    .dataframe tbody tr th:only-of-type {\n",
       "        vertical-align: middle;\n",
       "    }\n",
       "\n",
       "    .dataframe tbody tr th {\n",
       "        vertical-align: top;\n",
       "    }\n",
       "\n",
       "    .dataframe thead th {\n",
       "        text-align: right;\n",
       "    }\n",
       "</style>\n",
       "<table border=\"1\" class=\"dataframe\">\n",
       "  <thead>\n",
       "    <tr style=\"text-align: right;\">\n",
       "      <th></th>\n",
       "      <th>title</th>\n",
       "      <th>imdb_score</th>\n",
       "    </tr>\n",
       "  </thead>\n",
       "  <tbody>\n",
       "    <tr>\n",
       "      <th>2658</th>\n",
       "      <td>#ABtalks</td>\n",
       "      <td>9.6</td>\n",
       "    </tr>\n",
       "    <tr>\n",
       "      <th>216</th>\n",
       "      <td>Breaking Bad</td>\n",
       "      <td>9.5</td>\n",
       "    </tr>\n",
       "    <tr>\n",
       "      <th>564</th>\n",
       "      <td>Khawatir</td>\n",
       "      <td>9.5</td>\n",
       "    </tr>\n",
       "    <tr>\n",
       "      <th>233</th>\n",
       "      <td>Avatar: The Last Airbender</td>\n",
       "      <td>9.3</td>\n",
       "    </tr>\n",
       "    <tr>\n",
       "      <th>3147</th>\n",
       "      <td>Our Planet</td>\n",
       "      <td>9.3</td>\n",
       "    </tr>\n",
       "    <tr>\n",
       "      <th>1258</th>\n",
       "      <td>Reply 1988</td>\n",
       "      <td>9.2</td>\n",
       "    </tr>\n",
       "    <tr>\n",
       "      <th>3068</th>\n",
       "      <td>The Last Dance</td>\n",
       "      <td>9.1</td>\n",
       "    </tr>\n",
       "    <tr>\n",
       "      <th>3500</th>\n",
       "      <td>Kota Factory</td>\n",
       "      <td>9.1</td>\n",
       "    </tr>\n",
       "    <tr>\n",
       "      <th>1886</th>\n",
       "      <td>My Mister</td>\n",
       "      <td>9.1</td>\n",
       "    </tr>\n",
       "    <tr>\n",
       "      <th>243</th>\n",
       "      <td>DEATH NOTE</td>\n",
       "      <td>9.0</td>\n",
       "    </tr>\n",
       "  </tbody>\n",
       "</table>\n",
       "</div>"
      ],
      "text/plain": [
       "                           title  imdb_score\n",
       "2658                    #ABtalks         9.6\n",
       "216                 Breaking Bad         9.5\n",
       "564                     Khawatir         9.5\n",
       "233   Avatar: The Last Airbender         9.3\n",
       "3147                  Our Planet         9.3\n",
       "1258                  Reply 1988         9.2\n",
       "3068              The Last Dance         9.1\n",
       "3500                Kota Factory         9.1\n",
       "1886                   My Mister         9.1\n",
       "243                   DEATH NOTE         9.0"
      ]
     },
     "execution_count": 24,
     "metadata": {},
     "output_type": "execute_result"
    }
   ],
   "source": [
    "# top 10 show\n",
    "var2 = var[var['type'] == 'SHOW'].sort_values('imdb_score',ascending = False).head(10)[['title','imdb_score']]\n",
    "var2"
   ]
  },
  {
   "cell_type": "code",
   "execution_count": 26,
   "id": "9f518e54-d8ad-4df7-b866-c31e7cfe80a3",
   "metadata": {},
   "outputs": [
    {
     "data": {
      "text/html": [
       "<div>\n",
       "<style scoped>\n",
       "    .dataframe tbody tr th:only-of-type {\n",
       "        vertical-align: middle;\n",
       "    }\n",
       "\n",
       "    .dataframe tbody tr th {\n",
       "        vertical-align: top;\n",
       "    }\n",
       "\n",
       "    .dataframe thead th {\n",
       "        text-align: right;\n",
       "    }\n",
       "</style>\n",
       "<table border=\"1\" class=\"dataframe\">\n",
       "  <thead>\n",
       "    <tr style=\"text-align: right;\">\n",
       "      <th></th>\n",
       "      <th>title</th>\n",
       "      <th>imdb_score</th>\n",
       "    </tr>\n",
       "  </thead>\n",
       "  <tbody>\n",
       "    <tr>\n",
       "      <th>4771</th>\n",
       "      <td>Major</td>\n",
       "      <td>9.1</td>\n",
       "    </tr>\n",
       "    <tr>\n",
       "      <th>1092</th>\n",
       "      <td>Chhota Bheem &amp; Krishna vs Zimbara</td>\n",
       "      <td>9.1</td>\n",
       "    </tr>\n",
       "    <tr>\n",
       "      <th>3271</th>\n",
       "      <td>David Attenborough: A Life on Our Planet</td>\n",
       "      <td>8.9</td>\n",
       "    </tr>\n",
       "    <tr>\n",
       "      <th>2547</th>\n",
       "      <td>C/o Kancharapalem</td>\n",
       "      <td>8.9</td>\n",
       "    </tr>\n",
       "    <tr>\n",
       "      <th>237</th>\n",
       "      <td>Inception</td>\n",
       "      <td>8.8</td>\n",
       "    </tr>\n",
       "    <tr>\n",
       "      <th>97</th>\n",
       "      <td>Forrest Gump</td>\n",
       "      <td>8.8</td>\n",
       "    </tr>\n",
       "    <tr>\n",
       "      <th>36</th>\n",
       "      <td>GoodFellas</td>\n",
       "      <td>8.7</td>\n",
       "    </tr>\n",
       "    <tr>\n",
       "      <th>1096</th>\n",
       "      <td>Chhota Bheem Neeli Pahaadi</td>\n",
       "      <td>8.7</td>\n",
       "    </tr>\n",
       "    <tr>\n",
       "      <th>435</th>\n",
       "      <td>Anbe Sivam</td>\n",
       "      <td>8.7</td>\n",
       "    </tr>\n",
       "    <tr>\n",
       "      <th>438</th>\n",
       "      <td>A Lion in the House</td>\n",
       "      <td>8.7</td>\n",
       "    </tr>\n",
       "  </tbody>\n",
       "</table>\n",
       "</div>"
      ],
      "text/plain": [
       "                                         title  imdb_score\n",
       "4771                                     Major         9.1\n",
       "1092         Chhota Bheem & Krishna vs Zimbara         9.1\n",
       "3271  David Attenborough: A Life on Our Planet         8.9\n",
       "2547                         C/o Kancharapalem         8.9\n",
       "237                                  Inception         8.8\n",
       "97                                Forrest Gump         8.8\n",
       "36                                  GoodFellas         8.7\n",
       "1096                Chhota Bheem Neeli Pahaadi         8.7\n",
       "435                                 Anbe Sivam         8.7\n",
       "438                        A Lion in the House         8.7"
      ]
     },
     "execution_count": 26,
     "metadata": {},
     "output_type": "execute_result"
    }
   ],
   "source": [
    "# top 10 movie\n",
    "var2 = var[var['type'] == 'MOVIE'].sort_values('imdb_score',ascending = False).head(10)[['title','imdb_score']]\n",
    "var2"
   ]
  },
  {
   "cell_type": "markdown",
   "id": "bc551a3f-757f-4cf6-aa3f-9134363cdad8",
   "metadata": {},
   "source": [
    "2. How many movies and shows fall in each decade in Netflix's library?"
   ]
  },
  {
   "cell_type": "code",
   "execution_count": 6,
   "id": "d92f4358-cbe9-45eb-b6d8-3263dbd066e0",
   "metadata": {},
   "outputs": [
    {
     "data": {
      "text/plain": [
       "hello\n",
       "1950       5\n",
       "1960       7\n",
       "1970      17\n",
       "1980      43\n",
       "1990      98\n",
       "2000     265\n",
       "2010    2136\n",
       "2020    1173\n",
       "Name: type, dtype: int64"
      ]
     },
     "execution_count": 6,
     "metadata": {},
     "output_type": "execute_result"
    }
   ],
   "source": [
    "var['hello'] = (var['release_year']//10)*10\n",
    "var[var['type']== 'MOVIE'].groupby('hello')['type'].count()"
   ]
  },
  {
   "cell_type": "markdown",
   "id": "623eb3dd-c86d-4e6e-a3fb-68b6a434a510",
   "metadata": {},
   "source": [
    "3. How did age-certifications impact the dataset?"
   ]
  },
  {
   "cell_type": "code",
   "execution_count": 10,
   "id": "662ae8b4-d786-4e4e-b66d-af5822d61bd0",
   "metadata": {},
   "outputs": [
    {
     "data": {
      "text/html": [
       "<div>\n",
       "<style scoped>\n",
       "    .dataframe tbody tr th:only-of-type {\n",
       "        vertical-align: middle;\n",
       "    }\n",
       "\n",
       "    .dataframe tbody tr th {\n",
       "        vertical-align: top;\n",
       "    }\n",
       "\n",
       "    .dataframe thead th {\n",
       "        text-align: right;\n",
       "    }\n",
       "</style>\n",
       "<table border=\"1\" class=\"dataframe\">\n",
       "  <thead>\n",
       "    <tr style=\"text-align: right;\">\n",
       "      <th></th>\n",
       "      <th>imdb_score</th>\n",
       "      <th>tmdb_score</th>\n",
       "    </tr>\n",
       "    <tr>\n",
       "      <th>age_certification</th>\n",
       "      <th></th>\n",
       "      <th></th>\n",
       "    </tr>\n",
       "  </thead>\n",
       "  <tbody>\n",
       "    <tr>\n",
       "      <th>G</th>\n",
       "      <td>6.371717</td>\n",
       "      <td>6.581327</td>\n",
       "    </tr>\n",
       "    <tr>\n",
       "      <th>NC-17</th>\n",
       "      <td>6.146667</td>\n",
       "      <td>6.531250</td>\n",
       "    </tr>\n",
       "    <tr>\n",
       "      <th>PG</th>\n",
       "      <td>6.228251</td>\n",
       "      <td>6.586208</td>\n",
       "    </tr>\n",
       "    <tr>\n",
       "      <th>PG-13</th>\n",
       "      <td>6.425747</td>\n",
       "      <td>6.602070</td>\n",
       "    </tr>\n",
       "    <tr>\n",
       "      <th>R</th>\n",
       "      <td>6.292642</td>\n",
       "      <td>6.490763</td>\n",
       "    </tr>\n",
       "    <tr>\n",
       "      <th>TV-14</th>\n",
       "      <td>7.216100</td>\n",
       "      <td>7.596768</td>\n",
       "    </tr>\n",
       "    <tr>\n",
       "      <th>TV-G</th>\n",
       "      <td>6.333333</td>\n",
       "      <td>7.540273</td>\n",
       "    </tr>\n",
       "    <tr>\n",
       "      <th>TV-MA</th>\n",
       "      <td>7.021969</td>\n",
       "      <td>7.347805</td>\n",
       "    </tr>\n",
       "    <tr>\n",
       "      <th>TV-PG</th>\n",
       "      <td>6.917341</td>\n",
       "      <td>7.371576</td>\n",
       "    </tr>\n",
       "    <tr>\n",
       "      <th>TV-Y</th>\n",
       "      <td>6.546939</td>\n",
       "      <td>7.876968</td>\n",
       "    </tr>\n",
       "    <tr>\n",
       "      <th>TV-Y7</th>\n",
       "      <td>6.836937</td>\n",
       "      <td>7.702098</td>\n",
       "    </tr>\n",
       "  </tbody>\n",
       "</table>\n",
       "</div>"
      ],
      "text/plain": [
       "                   imdb_score  tmdb_score\n",
       "age_certification                        \n",
       "G                    6.371717    6.581327\n",
       "NC-17                6.146667    6.531250\n",
       "PG                   6.228251    6.586208\n",
       "PG-13                6.425747    6.602070\n",
       "R                    6.292642    6.490763\n",
       "TV-14                7.216100    7.596768\n",
       "TV-G                 6.333333    7.540273\n",
       "TV-MA                7.021969    7.347805\n",
       "TV-PG                6.917341    7.371576\n",
       "TV-Y                 6.546939    7.876968\n",
       "TV-Y7                6.836937    7.702098"
      ]
     },
     "execution_count": 10,
     "metadata": {},
     "output_type": "execute_result"
    }
   ],
   "source": [
    "# The age certification influence the average IMDB score \n",
    "var.groupby('age_certification')[['imdb_score','tmdb_score']].mean()"
   ]
  },
  {
   "cell_type": "code",
   "execution_count": 13,
   "id": "fbd3af1f-73ee-4531-86e2-b0837132ab5c",
   "metadata": {},
   "outputs": [
    {
     "data": {
      "text/plain": [
       "age_certification\n",
       "G        124\n",
       "NC-17     16\n",
       "PG       233\n",
       "PG-13    451\n",
       "R        556\n",
       "Name: age_certification, dtype: int64"
      ]
     },
     "execution_count": 13,
     "metadata": {},
     "output_type": "execute_result"
    }
   ],
   "source": [
    "var[var['type'] == 'MOVIE'].groupby('age_certification')['age_certification'].count()"
   ]
  },
  {
   "cell_type": "markdown",
   "id": "1f968747-e01d-42d8-9ee8-a870f2968fe1",
   "metadata": {},
   "source": [
    "4. Which genres are the most common "
   ]
  },
  {
   "cell_type": "code",
   "execution_count": 21,
   "id": "198ec95f-1fde-431c-9922-ab33304f9240",
   "metadata": {},
   "outputs": [
    {
     "data": {
      "text/plain": [
       "genres\n",
       "['comedy']                        384\n",
       "['documentation']                 230\n",
       "['drama']                         224\n",
       "['comedy', 'documentation']       100\n",
       "['comedy', 'drama']                84\n",
       "['drama', 'romance']               76\n",
       "['drama', 'comedy']                65\n",
       "['comedy', 'romance']              60\n",
       "['romance', 'comedy']              48\n",
       "['comedy', 'drama', 'romance']     44\n",
       "Name: genres, dtype: int64"
      ]
     },
     "execution_count": 21,
     "metadata": {},
     "output_type": "execute_result"
    }
   ],
   "source": [
    "hello = var[var['type'] == 'MOVIE'].groupby('genres')['genres'].count().sort_values(ascending = False).head(10)\n",
    "hello"
   ]
  },
  {
   "cell_type": "code",
   "execution_count": 22,
   "id": "ff62f523-b834-43e8-9100-1c2f84c99a88",
   "metadata": {},
   "outputs": [
    {
     "data": {
      "text/plain": [
       "genres\n",
       "['reality']                   113\n",
       "['drama']                     104\n",
       "['comedy']                    100\n",
       "['documentation']              99\n",
       "['comedy', 'drama']            51\n",
       "['drama', 'romance']           48\n",
       "['drama', 'comedy']            44\n",
       "['documentation', 'crime']     35\n",
       "['animation']                  30\n",
       "['crime', 'documentation']     25\n",
       "Name: genres, dtype: int64"
      ]
     },
     "execution_count": 22,
     "metadata": {},
     "output_type": "execute_result"
    }
   ],
   "source": [
    "hello = var[var['type'] == 'SHOW'].groupby('genres')['genres'].count().sort_values(ascending = False).head(10)\n",
    "hello"
   ]
  },
  {
   "cell_type": "code",
   "execution_count": 23,
   "id": "64afd4c8-a2a3-4e9e-b568-b1af11be4f1f",
   "metadata": {},
   "outputs": [
    {
     "data": {
      "text/plain": [
       "genres\n",
       "['comedy']           484\n",
       "['documentation']    329\n",
       "['drama']            328\n",
       "Name: genres, dtype: int64"
      ]
     },
     "execution_count": 23,
     "metadata": {},
     "output_type": "execute_result"
    }
   ],
   "source": [
    "hello = var.groupby('genres')['genres'].count().sort_values(ascending = False).head(3)\n",
    "hello"
   ]
  },
  {
   "cell_type": "code",
   "execution_count": null,
   "id": "777b0357-edde-427a-b80f-c91cd9bf8050",
   "metadata": {},
   "outputs": [],
   "source": []
  }
 ],
 "metadata": {
  "kernelspec": {
   "display_name": "Python 3 (ipykernel)",
   "language": "python",
   "name": "python3"
  },
  "language_info": {
   "codemirror_mode": {
    "name": "ipython",
    "version": 3
   },
   "file_extension": ".py",
   "mimetype": "text/x-python",
   "name": "python",
   "nbconvert_exporter": "python",
   "pygments_lexer": "ipython3",
   "version": "3.13.2"
  }
 },
 "nbformat": 4,
 "nbformat_minor": 5
}
